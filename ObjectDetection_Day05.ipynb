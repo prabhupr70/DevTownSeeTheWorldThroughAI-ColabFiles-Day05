{
  "nbformat": 4,
  "nbformat_minor": 0,
  "metadata": {
    "colab": {
      "provenance": [],
      "gpuType": "T4",
      "authorship_tag": "ABX9TyOMMtgzVgphw3oR6kZ2z1YZ",
      "include_colab_link": true
    },
    "kernelspec": {
      "name": "python3",
      "display_name": "Python 3"
    },
    "language_info": {
      "name": "python"
    },
    "accelerator": "GPU"
  },
  "cells": [
    {
      "cell_type": "markdown",
      "metadata": {
        "id": "view-in-github",
        "colab_type": "text"
      },
      "source": [
        "<a href=\"https://colab.research.google.com/github/prabhupr70/DevTownSeeTheWorldThroughAI-ColabFiles-Day05/blob/main/ObjectDetection_Day05.ipynb\" target=\"_parent\"><img src=\"https://colab.research.google.com/assets/colab-badge.svg\" alt=\"Open In Colab\"/></a>"
      ]
    },
    {
      "cell_type": "markdown",
      "source": [
        "# See The World Thru AI"
      ],
      "metadata": {
        "id": "fH5MG098jMGt"
      }
    },
    {
      "cell_type": "markdown",
      "source": [
        "## Day 5: Build a simple Streamlit App\n",
        "### [YouTube Video](https://www.youtube.com/live/5kTFVR6g3k8)\n",
        "### [Attendance Form](https://forms.gle/BbuhsmZS94kUYspm6)\n",
        "### Goal: Deploy YOLO model with a simple Streamlit UI.\n",
        "*   Upload image or video\n",
        "*   Display detection result"
      ],
      "metadata": {
        "id": "KwKGjfKtjw3u"
      }
    },
    {
      "cell_type": "markdown",
      "source": [
        "![WhatILearned.jpg](data:image/jpeg;base64,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)\n",
        "1.   Learned about 2 free image hosting sites (https://imgbb.com/, https://postimages.org/)\n",
        "2.   "
      ],
      "metadata": {
        "id": "0IgzjYPnlPwa"
      }
    },
    {
      "cell_type": "code",
      "source": [
        "#*********************************************************\n",
        "# Download & Install all Python packages/modules/libraries\n",
        "# ultralytics: Used in YOLO. It constains predefined model\n",
        "# opencv-python-headlesss: Without GUI how to do thr work using this package\n",
        "# pillow: Image processing library\n",
        "# pyngrok: Python nGrok package that allows you to expose your local network to the internet using a tunnel\n",
        "#          Creates a way to pass from LOCVAL system on the web-server. It also lets you deploy it thru the tunnel.\n",
        "#          In simple words, its lets you create a web-page from your local machine on the globally hosted webpage\n",
        "# pandas: For Data Analysis\n",
        "#*********************************************************\n",
        "#opencv-python-headless matplotlib pillow\n",
        "!pip install streamlit==1.38.0 ultralytics==8.3.0 pyngrok==7.1.6 opencv-python-headless pillow pandas"
      ],
      "metadata": {
        "id": "Fij3gP4HlM-d",
        "colab": {
          "base_uri": "https://localhost:8080/"
        },
        "outputId": "7da69cba-780b-409e-a4d9-549c21c2aa11",
        "collapsed": true
      },
      "execution_count": 1,
      "outputs": [
        {
          "output_type": "stream",
          "name": "stdout",
          "text": [
            "Requirement already satisfied: streamlit==1.38.0 in /usr/local/lib/python3.12/dist-packages (1.38.0)\n",
            "Requirement already satisfied: ultralytics==8.3.0 in /usr/local/lib/python3.12/dist-packages (8.3.0)\n",
            "Requirement already satisfied: pyngrok==7.1.6 in /usr/local/lib/python3.12/dist-packages (7.1.6)\n",
            "Requirement already satisfied: opencv-python-headless in /usr/local/lib/python3.12/dist-packages (4.11.0.86)\n",
            "Requirement already satisfied: pillow in /usr/local/lib/python3.12/dist-packages (10.4.0)\n",
            "Requirement already satisfied: pandas in /usr/local/lib/python3.12/dist-packages (2.2.2)\n",
            "Requirement already satisfied: altair<6,>=4.0 in /usr/local/lib/python3.12/dist-packages (from streamlit==1.38.0) (5.5.0)\n",
            "Requirement already satisfied: blinker<2,>=1.0.0 in /usr/local/lib/python3.12/dist-packages (from streamlit==1.38.0) (1.9.0)\n",
            "Requirement already satisfied: cachetools<6,>=4.0 in /usr/local/lib/python3.12/dist-packages (from streamlit==1.38.0) (5.5.2)\n",
            "Requirement already satisfied: click<9,>=7.0 in /usr/local/lib/python3.12/dist-packages (from streamlit==1.38.0) (8.2.1)\n",
            "Requirement already satisfied: numpy<3,>=1.20 in /usr/local/lib/python3.12/dist-packages (from streamlit==1.38.0) (1.26.4)\n",
            "Requirement already satisfied: packaging<25,>=20 in /usr/local/lib/python3.12/dist-packages (from streamlit==1.38.0) (24.2)\n",
            "Requirement already satisfied: protobuf<6,>=3.20 in /usr/local/lib/python3.12/dist-packages (from streamlit==1.38.0) (5.29.5)\n",
            "Requirement already satisfied: pyarrow>=7.0 in /usr/local/lib/python3.12/dist-packages (from streamlit==1.38.0) (18.1.0)\n",
            "Requirement already satisfied: requests<3,>=2.27 in /usr/local/lib/python3.12/dist-packages (from streamlit==1.38.0) (2.32.4)\n",
            "Requirement already satisfied: rich<14,>=10.14.0 in /usr/local/lib/python3.12/dist-packages (from streamlit==1.38.0) (13.9.4)\n",
            "Requirement already satisfied: tenacity<9,>=8.1.0 in /usr/local/lib/python3.12/dist-packages (from streamlit==1.38.0) (8.5.0)\n",
            "Requirement already satisfied: toml<2,>=0.10.1 in /usr/local/lib/python3.12/dist-packages (from streamlit==1.38.0) (0.10.2)\n",
            "Requirement already satisfied: typing-extensions<5,>=4.3.0 in /usr/local/lib/python3.12/dist-packages (from streamlit==1.38.0) (4.15.0)\n",
            "Requirement already satisfied: gitpython!=3.1.19,<4,>=3.0.7 in /usr/local/lib/python3.12/dist-packages (from streamlit==1.38.0) (3.1.45)\n",
            "Requirement already satisfied: pydeck<1,>=0.8.0b4 in /usr/local/lib/python3.12/dist-packages (from streamlit==1.38.0) (0.9.1)\n",
            "Requirement already satisfied: tornado<7,>=6.0.3 in /usr/local/lib/python3.12/dist-packages (from streamlit==1.38.0) (6.4.2)\n",
            "Requirement already satisfied: watchdog<5,>=2.1.5 in /usr/local/lib/python3.12/dist-packages (from streamlit==1.38.0) (4.0.2)\n",
            "Requirement already satisfied: matplotlib>=3.3.0 in /usr/local/lib/python3.12/dist-packages (from ultralytics==8.3.0) (3.10.0)\n",
            "Requirement already satisfied: opencv-python>=4.6.0 in /usr/local/lib/python3.12/dist-packages (from ultralytics==8.3.0) (4.11.0.86)\n",
            "Requirement already satisfied: pyyaml>=5.3.1 in /usr/local/lib/python3.12/dist-packages (from ultralytics==8.3.0) (6.0.2)\n",
            "Requirement already satisfied: scipy>=1.4.1 in /usr/local/lib/python3.12/dist-packages (from ultralytics==8.3.0) (1.16.1)\n",
            "Requirement already satisfied: torch>=1.8.0 in /usr/local/lib/python3.12/dist-packages (from ultralytics==8.3.0) (2.8.0+cu126)\n",
            "Requirement already satisfied: torchvision>=0.9.0 in /usr/local/lib/python3.12/dist-packages (from ultralytics==8.3.0) (0.23.0+cu126)\n",
            "Requirement already satisfied: tqdm>=4.64.0 in /usr/local/lib/python3.12/dist-packages (from ultralytics==8.3.0) (4.67.1)\n",
            "Requirement already satisfied: psutil in /usr/local/lib/python3.12/dist-packages (from ultralytics==8.3.0) (5.9.5)\n",
            "Requirement already satisfied: py-cpuinfo in /usr/local/lib/python3.12/dist-packages (from ultralytics==8.3.0) (9.0.0)\n",
            "Requirement already satisfied: seaborn>=0.11.0 in /usr/local/lib/python3.12/dist-packages (from ultralytics==8.3.0) (0.13.2)\n",
            "Requirement already satisfied: ultralytics-thop>=2.0.0 in /usr/local/lib/python3.12/dist-packages (from ultralytics==8.3.0) (2.0.17)\n",
            "Requirement already satisfied: python-dateutil>=2.8.2 in /usr/local/lib/python3.12/dist-packages (from pandas) (2.9.0.post0)\n",
            "Requirement already satisfied: pytz>=2020.1 in /usr/local/lib/python3.12/dist-packages (from pandas) (2025.2)\n",
            "Requirement already satisfied: tzdata>=2022.7 in /usr/local/lib/python3.12/dist-packages (from pandas) (2025.2)\n",
            "Requirement already satisfied: jinja2 in /usr/local/lib/python3.12/dist-packages (from altair<6,>=4.0->streamlit==1.38.0) (3.1.6)\n",
            "Requirement already satisfied: jsonschema>=3.0 in /usr/local/lib/python3.12/dist-packages (from altair<6,>=4.0->streamlit==1.38.0) (4.25.1)\n",
            "Requirement already satisfied: narwhals>=1.14.2 in /usr/local/lib/python3.12/dist-packages (from altair<6,>=4.0->streamlit==1.38.0) (2.3.0)\n",
            "Requirement already satisfied: gitdb<5,>=4.0.1 in /usr/local/lib/python3.12/dist-packages (from gitpython!=3.1.19,<4,>=3.0.7->streamlit==1.38.0) (4.0.12)\n",
            "Requirement already satisfied: contourpy>=1.0.1 in /usr/local/lib/python3.12/dist-packages (from matplotlib>=3.3.0->ultralytics==8.3.0) (1.3.3)\n",
            "Requirement already satisfied: cycler>=0.10 in /usr/local/lib/python3.12/dist-packages (from matplotlib>=3.3.0->ultralytics==8.3.0) (0.12.1)\n",
            "Requirement already satisfied: fonttools>=4.22.0 in /usr/local/lib/python3.12/dist-packages (from matplotlib>=3.3.0->ultralytics==8.3.0) (4.59.2)\n",
            "Requirement already satisfied: kiwisolver>=1.3.1 in /usr/local/lib/python3.12/dist-packages (from matplotlib>=3.3.0->ultralytics==8.3.0) (1.4.9)\n",
            "Requirement already satisfied: pyparsing>=2.3.1 in /usr/local/lib/python3.12/dist-packages (from matplotlib>=3.3.0->ultralytics==8.3.0) (3.2.3)\n",
            "Requirement already satisfied: six>=1.5 in /usr/local/lib/python3.12/dist-packages (from python-dateutil>=2.8.2->pandas) (1.17.0)\n",
            "Requirement already satisfied: charset_normalizer<4,>=2 in /usr/local/lib/python3.12/dist-packages (from requests<3,>=2.27->streamlit==1.38.0) (3.4.3)\n",
            "Requirement already satisfied: idna<4,>=2.5 in /usr/local/lib/python3.12/dist-packages (from requests<3,>=2.27->streamlit==1.38.0) (3.10)\n",
            "Requirement already satisfied: urllib3<3,>=1.21.1 in /usr/local/lib/python3.12/dist-packages (from requests<3,>=2.27->streamlit==1.38.0) (2.5.0)\n",
            "Requirement already satisfied: certifi>=2017.4.17 in /usr/local/lib/python3.12/dist-packages (from requests<3,>=2.27->streamlit==1.38.0) (2025.8.3)\n",
            "Requirement already satisfied: markdown-it-py>=2.2.0 in /usr/local/lib/python3.12/dist-packages (from rich<14,>=10.14.0->streamlit==1.38.0) (4.0.0)\n",
            "Requirement already satisfied: pygments<3.0.0,>=2.13.0 in /usr/local/lib/python3.12/dist-packages (from rich<14,>=10.14.0->streamlit==1.38.0) (2.19.2)\n",
            "Requirement already satisfied: filelock in /usr/local/lib/python3.12/dist-packages (from torch>=1.8.0->ultralytics==8.3.0) (3.19.1)\n",
            "Requirement already satisfied: setuptools in /usr/local/lib/python3.12/dist-packages (from torch>=1.8.0->ultralytics==8.3.0) (75.2.0)\n",
            "Requirement already satisfied: sympy>=1.13.3 in /usr/local/lib/python3.12/dist-packages (from torch>=1.8.0->ultralytics==8.3.0) (1.13.3)\n",
            "Requirement already satisfied: networkx in /usr/local/lib/python3.12/dist-packages (from torch>=1.8.0->ultralytics==8.3.0) (3.5)\n",
            "Requirement already satisfied: fsspec in /usr/local/lib/python3.12/dist-packages (from torch>=1.8.0->ultralytics==8.3.0) (2025.3.0)\n",
            "Requirement already satisfied: nvidia-cuda-nvrtc-cu12==12.6.77 in /usr/local/lib/python3.12/dist-packages (from torch>=1.8.0->ultralytics==8.3.0) (12.6.77)\n",
            "Requirement already satisfied: nvidia-cuda-runtime-cu12==12.6.77 in /usr/local/lib/python3.12/dist-packages (from torch>=1.8.0->ultralytics==8.3.0) (12.6.77)\n",
            "Requirement already satisfied: nvidia-cuda-cupti-cu12==12.6.80 in /usr/local/lib/python3.12/dist-packages (from torch>=1.8.0->ultralytics==8.3.0) (12.6.80)\n",
            "Requirement already satisfied: nvidia-cudnn-cu12==9.10.2.21 in /usr/local/lib/python3.12/dist-packages (from torch>=1.8.0->ultralytics==8.3.0) (9.10.2.21)\n",
            "Requirement already satisfied: nvidia-cublas-cu12==12.6.4.1 in /usr/local/lib/python3.12/dist-packages (from torch>=1.8.0->ultralytics==8.3.0) (12.6.4.1)\n",
            "Requirement already satisfied: nvidia-cufft-cu12==11.3.0.4 in /usr/local/lib/python3.12/dist-packages (from torch>=1.8.0->ultralytics==8.3.0) (11.3.0.4)\n",
            "Requirement already satisfied: nvidia-curand-cu12==10.3.7.77 in /usr/local/lib/python3.12/dist-packages (from torch>=1.8.0->ultralytics==8.3.0) (10.3.7.77)\n",
            "Requirement already satisfied: nvidia-cusolver-cu12==11.7.1.2 in /usr/local/lib/python3.12/dist-packages (from torch>=1.8.0->ultralytics==8.3.0) (11.7.1.2)\n",
            "Requirement already satisfied: nvidia-cusparse-cu12==12.5.4.2 in /usr/local/lib/python3.12/dist-packages (from torch>=1.8.0->ultralytics==8.3.0) (12.5.4.2)\n",
            "Requirement already satisfied: nvidia-cusparselt-cu12==0.7.1 in /usr/local/lib/python3.12/dist-packages (from torch>=1.8.0->ultralytics==8.3.0) (0.7.1)\n",
            "Requirement already satisfied: nvidia-nccl-cu12==2.27.3 in /usr/local/lib/python3.12/dist-packages (from torch>=1.8.0->ultralytics==8.3.0) (2.27.3)\n",
            "Requirement already satisfied: nvidia-nvtx-cu12==12.6.77 in /usr/local/lib/python3.12/dist-packages (from torch>=1.8.0->ultralytics==8.3.0) (12.6.77)\n",
            "Requirement already satisfied: nvidia-nvjitlink-cu12==12.6.85 in /usr/local/lib/python3.12/dist-packages (from torch>=1.8.0->ultralytics==8.3.0) (12.6.85)\n",
            "Requirement already satisfied: nvidia-cufile-cu12==1.11.1.6 in /usr/local/lib/python3.12/dist-packages (from torch>=1.8.0->ultralytics==8.3.0) (1.11.1.6)\n",
            "Requirement already satisfied: triton==3.4.0 in /usr/local/lib/python3.12/dist-packages (from torch>=1.8.0->ultralytics==8.3.0) (3.4.0)\n",
            "Requirement already satisfied: smmap<6,>=3.0.1 in /usr/local/lib/python3.12/dist-packages (from gitdb<5,>=4.0.1->gitpython!=3.1.19,<4,>=3.0.7->streamlit==1.38.0) (5.0.2)\n",
            "Requirement already satisfied: MarkupSafe>=2.0 in /usr/local/lib/python3.12/dist-packages (from jinja2->altair<6,>=4.0->streamlit==1.38.0) (3.0.2)\n",
            "Requirement already satisfied: attrs>=22.2.0 in /usr/local/lib/python3.12/dist-packages (from jsonschema>=3.0->altair<6,>=4.0->streamlit==1.38.0) (25.3.0)\n",
            "Requirement already satisfied: jsonschema-specifications>=2023.03.6 in /usr/local/lib/python3.12/dist-packages (from jsonschema>=3.0->altair<6,>=4.0->streamlit==1.38.0) (2025.4.1)\n",
            "Requirement already satisfied: referencing>=0.28.4 in /usr/local/lib/python3.12/dist-packages (from jsonschema>=3.0->altair<6,>=4.0->streamlit==1.38.0) (0.36.2)\n",
            "Requirement already satisfied: rpds-py>=0.7.1 in /usr/local/lib/python3.12/dist-packages (from jsonschema>=3.0->altair<6,>=4.0->streamlit==1.38.0) (0.27.1)\n",
            "Requirement already satisfied: mdurl~=0.1 in /usr/local/lib/python3.12/dist-packages (from markdown-it-py>=2.2.0->rich<14,>=10.14.0->streamlit==1.38.0) (0.1.2)\n",
            "Requirement already satisfied: mpmath<1.4,>=1.1.0 in /usr/local/lib/python3.12/dist-packages (from sympy>=1.13.3->torch>=1.8.0->ultralytics==8.3.0) (1.3.0)\n"
          ]
        }
      ]
    },
    {
      "cell_type": "code",
      "source": [
        "%%writefile app_streamlit.py\n",
        "import streamlit as st\n",
        "from ultralytics import YOLO\n",
        "import numpy as np\n",
        "from PIL import Image\n",
        "import cv2, tempfile, os, glob\n",
        "import pandas as pd\n",
        "from pathlib import Path\n",
        "\n",
        "st.set_page_config(page_title=\"Object Detection (DevTown)\", layout=\"wide\")\n",
        "background_url = \"https://i.ibb.co/FqVqvBBN/web-back.png\"\n",
        "\n",
        "st.markdown(\n",
        "   f\"\"\"\n",
        "   <style>\n",
        "   .stApp {{\n",
        "       background: url(\"{background_url}\") no-repeat center center fixed;\n",
        "       background-size: cover;\n",
        "   }}\n",
        "   /* Sidebar styling */\n",
        "   section[data-testid=\"stSidebar\"] {{\n",
        "       background: rgba(0, 0, 0, 0.3);\n",
        "       backdrop-filter: blur(10px);\n",
        "       border-radius: 12px;\n",
        "       padding: 10px;\n",
        "   }}\n",
        "   /* File uploader styling */\n",
        "   div[data-testid=\"stFileUploader\"] {{\n",
        "       background: rgba(0, 0, 0, 0.3);\n",
        "       backdrop-filter: blur(10px);\n",
        "       border-radius: 12px;\n",
        "       padding: 15px;\n",
        "   }}\n",
        "   /* DataFrame styling */\n",
        "   .stDataFrame {{\n",
        "       background: rgba(255, 255, 255, 0.85);\n",
        "       border-radius: 12px;\n",
        "       padding: 10px;\n",
        "       box-shadow: 0 4px 10px rgba(0,0,0,0.3);\n",
        "   }}\n",
        "   /* Dark text */\n",
        "   h1, h2, h3, h4, h5, h6, p, label, span, div {{\n",
        "       color: #1a1a1a !important;\n",
        "       font-weight: 500;\n",
        "   }}\n",
        "   </style>\n",
        "   \"\"\",\n",
        "   unsafe_allow_html=True\n",
        ")\n",
        "\n",
        "\n",
        "st.title(\"Object Detection (DevTown)\")\n",
        "\n",
        "\n",
        "uploaded_weights = st.sidebar.file_uploader(\"Upload custom .pt weights (optional)\", type=[\"pt\"])\n",
        "conf = st.sidebar.slider(\"Confidence threshold\", 0.0, 1.0, 0.25, 0.01)\n",
        "img_size = st.sidebar.selectbox(\"Inference image size (px)\", [320, 416, 640, 1280], index=2)\n",
        "\n",
        "\n",
        "@st.cache_resource\n",
        "def load_model(weights_path=\"yolov8n.pt\"):\n",
        "   return YOLO(weights_path)\n",
        "\n",
        "\n",
        "def save_uploaded_file(uploaded_file, suffix=\"\"):\n",
        "   suffix = suffix if suffix else Path(uploaded_file.name).suffix\n",
        "   tf = tempfile.NamedTemporaryFile(delete=False, suffix=suffix)\n",
        "   tf.write(uploaded_file.getbuffer())\n",
        "   tf.flush()\n",
        "   return tf.name\n",
        "\n",
        "\n",
        "def annotate_and_table(results, model):\n",
        "   res = results[0]\n",
        "   try:\n",
        "       plotted = res.plot()\n",
        "       annotated = cv2.cvtColor(plotted, cv2.COLOR_BGR2RGB)\n",
        "   except Exception:\n",
        "       annotated = res.orig_img if hasattr(res, \"orig_img\") else None\n",
        "\n",
        "\n",
        "   detections = []\n",
        "   try:\n",
        "       boxes = res.boxes\n",
        "       if boxes is not None and len(boxes) > 0:\n",
        "           for c, cf, box in zip(boxes.cls.cpu().numpy(), boxes.conf.cpu().numpy(), boxes.xyxy.cpu().numpy()):\n",
        "               name = model.names[int(c)]\n",
        "               detections.append({\"class\": name, \"conf\": float(cf), \"bbox\": [float(x) for x in box]})\n",
        "   except:\n",
        "       detections = []\n",
        "\n",
        "\n",
        "   return annotated, pd.DataFrame(detections)\n",
        "\n",
        "\n",
        "weights_to_load = \"yolov8n.pt\"\n",
        "if uploaded_weights:\n",
        "   weights_to_load = save_uploaded_file(uploaded_weights, suffix=\".pt\")\n",
        "   st.sidebar.success(\"Using uploaded weights\")\n",
        "\n",
        "\n",
        "model = load_model(weights_to_load)\n",
        "\n",
        "\n",
        "mode = st.radio(\"Select input\", [\"Image upload\", \"Video upload\"])\n",
        "\n",
        "\n",
        "if mode == \"Image upload\":\n",
        "   uploaded = st.file_uploader(\"Upload image\", type=[\"jpg\",\"jpeg\",\"png\"])\n",
        "   if uploaded:\n",
        "       img = Image.open(uploaded).convert(\"RGB\")\n",
        "       st.image(img, caption=\"Input image\")\n",
        "       results = model.predict(np.array(img), conf=conf, imgsz=img_size)\n",
        "       annotated, df = annotate_and_table(results, model)\n",
        "       if annotated is not None:\n",
        "           st.image(annotated, caption=\"Annotated\")\n",
        "       if not df.empty:\n",
        "           st.dataframe(df)\n",
        "\n",
        "\n",
        "elif mode == \"Video upload\":\n",
        "   uploaded_vid = st.file_uploader(\"Upload video\", type=[\"mp4\",\"mov\",\"avi\",\"mkv\"])\n",
        "   if uploaded_vid:\n",
        "       tmp = save_uploaded_file(uploaded_vid)\n",
        "       st.video(tmp)\n",
        "       project_dir = tempfile.mkdtemp()\n",
        "       results = model.predict(source=tmp, conf=conf, imgsz=img_size, project=project_dir, name=\"run\", save=True)\n",
        "       try:\n",
        "           out_dir = str(results[0].save_dir)\n",
        "           vids = glob.glob(os.path.join(out_dir, \"*\"))\n",
        "           vids = [v for v in vids if Path(v).suffix.lower() in [\".mp4\",\".avi\",\".mov\",\".mkv\"]]\n",
        "           if vids:\n",
        "               st.success(\"Annotated video\")\n",
        "               st.video(vids[0])\n",
        "       except:\n",
        "           st.warning(\"Could not display annotated video\")\n"
      ],
      "metadata": {
        "colab": {
          "base_uri": "https://localhost:8080/"
        },
        "id": "-7gjDmQI6fzL",
        "outputId": "d8aab7aa-d1c7-40d6-e85f-ee14bf510e7a"
      },
      "execution_count": 2,
      "outputs": [
        {
          "output_type": "stream",
          "name": "stdout",
          "text": [
            "Overwriting app_streamlit.py\n"
          ]
        }
      ]
    },
    {
      "cell_type": "code",
      "source": [
        "from pyngrok import ngrok\n",
        "\n",
        "NGROK_AUTH_TOKEN = \"32lgzpBam07zWyCxH5oTkj2MiCw_3TyWZiFAoZsMRbjzMV9if\"\n",
        "ngrok.set_auth_token(NGROK_AUTH_TOKEN)\n",
        "\n",
        "public_url = ngrok.connect(8501)\n",
        "print(\"Public URL: \", public_url)\n",
        "\n",
        "!streamlit run app_streamlit.py --server.port 8501 &\n",
        "\n",
        "import time\n",
        "while True:\n",
        "    time.sleep(60)\n"
      ],
      "metadata": {
        "colab": {
          "base_uri": "https://localhost:8080/"
        },
        "id": "3_QAnyut-7W7",
        "outputId": "fa48ad20-98e9-49b6-e864-4dd25cbe8a90"
      },
      "execution_count": null,
      "outputs": [
        {
          "output_type": "stream",
          "name": "stdout",
          "text": [
            "Public URL:  NgrokTunnel: \"https://1f3b0821b162.ngrok-free.app\" -> \"http://localhost:8501\"\n",
            "\n",
            "Collecting usage statistics. To deactivate, set browser.gatherUsageStats to false.\n",
            "\u001b[0m\n",
            "\u001b[0m\n",
            "\u001b[34m\u001b[1m  You can now view your Streamlit app in your browser.\u001b[0m\n",
            "\u001b[0m\n",
            "\u001b[34m  Local URL: \u001b[0m\u001b[1mhttp://localhost:8501\u001b[0m\n",
            "\u001b[34m  Network URL: \u001b[0m\u001b[1mhttp://172.28.0.12:8501\u001b[0m\n",
            "\u001b[34m  External URL: \u001b[0m\u001b[1mhttp://34.125.21.122:8501\u001b[0m\n",
            "\u001b[0m\n",
            "2025-09-16 06:32:37.452 Examining the path of torch.classes raised: Tried to instantiate class '__path__._path', but it does not exist! Ensure that it is registered via torch::class_\n",
            "\n",
            "0: 512x640 1 person, 54.2ms\n",
            "Speed: 4.8ms preprocess, 54.2ms inference, 149.5ms postprocess per image at shape (1, 3, 512, 640)\n",
            "2025-09-16 06:32:50.355 Examining the path of torch.classes raised: Tried to instantiate class '__path__._path', but it does not exist! Ensure that it is registered via torch::class_\n"
          ]
        }
      ]
    }
  ]
}